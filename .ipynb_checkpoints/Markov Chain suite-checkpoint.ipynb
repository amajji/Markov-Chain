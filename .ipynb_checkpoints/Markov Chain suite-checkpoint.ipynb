{
 "cells": [
  {
   "cell_type": "markdown",
   "id": "4daf0091",
   "metadata": {},
   "source": []
  },
  {
   "cell_type": "markdown",
   "id": "83c8b4e3",
   "metadata": {},
   "source": []
  },
  {
   "cell_type": "markdown",
   "id": "3865d35e",
   "metadata": {},
   "source": []
  },
  {
   "cell_type": "markdown",
   "id": "81a7ceae",
   "metadata": {},
   "source": []
  },
  {
   "cell_type": "markdown",
   "id": "8e062141",
   "metadata": {},
   "source": []
  },
  {
   "cell_type": "markdown",
   "id": "4e32eaa0",
   "metadata": {},
   "source": []
  }
 ],
 "metadata": {
  "kernelspec": {
   "display_name": "Python 3 (ipykernel)",
   "language": "python",
   "name": "python3"
  },
  "language_info": {
   "codemirror_mode": {
    "name": "ipython",
    "version": 3
   },
   "file_extension": ".py",
   "mimetype": "text/x-python",
   "name": "python",
   "nbconvert_exporter": "python",
   "pygments_lexer": "ipython3",
   "version": "3.7.1"
  }
 },
 "nbformat": 4,
 "nbformat_minor": 5
}
