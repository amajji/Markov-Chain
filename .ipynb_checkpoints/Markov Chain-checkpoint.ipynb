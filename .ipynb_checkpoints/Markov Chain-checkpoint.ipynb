{
 "cells": [
  {
   "cell_type": "markdown",
   "metadata": {},
   "source": [
    "<h1 align=\"center\"> Markov Chain </h1>\n"
   ]
  },
  {
   "cell_type": "markdown",
   "metadata": {},
   "source": [
    "#### This project contains an overview of Markov chains and their implementation in finance specifically in credit risk modeling."
   ]
  },
  {
   "cell_type": "markdown",
   "metadata": {},
   "source": [
    "#### We first start by mathematically detailing the different characteristics of the Markov chain."
   ]
  },
  {
   "cell_type": "markdown",
   "metadata": {},
   "source": [
    "## Introduction to Markov chain "
   ]
  },
  {
   "cell_type": "markdown",
   "metadata": {},
   "source": [
    "<div class=\"alert alert-info\"> <b> Notation </b> : We note $(X_n)_{n\\geq0} \\in E^{\\mathbb{N}}$ a sequence of random variables indexed to $\\mathbb{N}$  with values in a set $E$. It will be more commonly noted $(X_n)$ or $X$.</div>"
   ]
  },
  {
   "cell_type": "markdown",
   "metadata": {},
   "source": [
    "## 1.1 Definitions"
   ]
  },
  {
   "cell_type": "markdown",
   "metadata": {},
   "source": [
    "<div class=\"alert alert-danger\"><b>Definition 1.1 [Markov Chain]</b> A sequence of random varaibles $(X_n)_{n\\geq0}$ with values in a countable state space (finite or infinite) $E$ is a Markov chain if for every $n ≥ 0$ and every $x_0,...,x_{n+1} \\in E$ we have : $$\\mathbb{P}(X_{n+1} = x_{n+1} | X_n = x_n,...,X_0 = x_0) = P(X_{n+1} = x_{n+1} | X_n = x_n)$$\n",
    "\n",
    "If, on the other hand $\\mathbb{P}(X_{n+1} =x_{n+1} |X_n =x_n) = \\mathbb{P}(X_1 =x_{n+1} |X_0 = x_n)$, we say that $(X_n)$ is <i>homogeneous in time </i>. </div>\n",
    "\n",
    "In other words, a sequence of random variables $(X_n)$ with values in a countable state space $E$ is therefore a Markov chain if conditionally to present, future and past are independent. A trivial example of a Markov chain is the case where the $X_i$ are independent and identically distributed (i.i.d.). \n",
    "\n",
    "Throughout the notebook, in accordance with our application cases, we will consider Markov chain in a countable state space (finite or infinite) and <b>homogeneous in time.\n",
    "\n",
    "For a time-homogeneous Markov chain, the probability $\\mathbb{P}(X_{n+1} = y | X_n = x)$  does not depend on time (ie $n$): we call this probability **transition probability** (from $x$ to $y$) and we note it $$p_{xy} =P(X_{n+1} = y| X_n = x)=P(X_1 = y| X_0 = x)$$\n",
    "\n",
    "<div class=\"alert alert-danger\"><b>Definition 1.2 [Transition matrix] </b> The set of transition probabilities defines the transition matrix denoted $P$ and defined by: $$P=(p_{xy})_{x,y \\in E}$$</div>\n",
    "\n",
    "If $E$ is infinite, then $P$ is an \"infinite matrix\".  \n",
    "$P$ is a stochastic matrix, i.e. it verifies the following properties: \n",
    "\n",
    "\n",
    "$$\n",
    "\\left\\{\n",
    "    \\begin{array}{rl}\n",
    "        \\forall x,y \\in E, & p_{xy} \\geq 0 \\\\\n",
    "        \\forall x \\in E, & \\sum_{y\\in E} p_{xy} = 1\n",
    "    \\end{array}\n",
    "\\right.\n",
    "$$\n",
    "\n",
    "Both conditions allow us to assert that $\\forall x,y \\in E,  p_{xy} \\in [0,1]$. So these are probabilities. In addition, the second condition tells us that for each line, the sum of its elements is $1$. This means that starting from a state $ x \\in E $ at the moment $n$, we will go into a state of $E$ at the moment $n+1$ almost surely ($\\mathbb{P}(X_1 \\in E | X_0 = x) = 1$ for any $x \\in E$)."
   ]
  },
  {
   "cell_type": "markdown",
   "metadata": {},
   "source": [
    "### Examples"
   ]
  },
  {
   "cell_type": "markdown",
   "metadata": {},
   "source": [
    "Let us give some classic examples of Markov chains homogeneous in time and over a countable state space:"
   ]
  },
  {
   "cell_type": "markdown",
   "metadata": {},
   "source": [
    "* **Example 1** : Markov chain with 2 states in $E = \\{0,1\\}$.\n",
    "<img src=\"Images/Markov.png\" width=\"600px\"></img>"
   ]
  },
  {
   "cell_type": "markdown",
   "metadata": {},
   "source": [
    "We have: $p_{0,1} = p_{1,0} = 1 - p_{0,0} = 1 - p_{1,1} = p \\in [0,1]$, and so the transition matrix is given by $P = \\begin{pmatrix} 1-p & p \\\\ p & 1-p \\end{pmatrix}$ which is well stochastic.\n",
    "In other words, we change states with a probability $p$ and we stay in the same state with a probability $1-p$.  "
   ]
  },
  {
   "cell_type": "markdown",
   "metadata": {},
   "source": [
    "* **Example 2** : Random walk with $E = \\mathbb{N}$ : "
   ]
  },
  {
   "cell_type": "markdown",
   "metadata": {},
   "source": [
    "<img src=\"Images/MarkovN.png\" width=\"600px\"></img>\n"
   ]
  },
  {
   "cell_type": "markdown",
   "metadata": {},
   "source": [
    "We have: $p_{x,x+1} = 1 - p_{x,x-1} = p$ for $x>0$ and $p_{0,1} = 1 - p_{0,0} = p$, and therefore the transition matrix is given by the infinite \"matrix\"  $P = \\begin{pmatrix} 1-p & p & 0 & 0 & ...\\\\ \n",
    "                                    1-p & 0 & p & 0 & ...\\\\\n",
    "                                    0 & 1-p & 0 & p & ...\\\\\n",
    "                                    0 & 0 & 1-p & 0 & ...\\\\\n",
    "                                    ... & ... & ...& ... & ...\\end{pmatrix}$ \n",
    "                                    \n",
    "Which is stochastic. In other words, in all cases, we go to the right with a probability $p $. On the other hand, if we are in $x>0$, we go to the left with a probability $1-p$ and if we are in $x=0$, we stay in $0$ with a probability $1-p$."
   ]
  },
  {
   "cell_type": "markdown",
   "metadata": {},
   "source": [
    "* **Example 2** : Weather prediction : Markov chain with 3 states : \n",
    "\n",
    "<img src=\"Images/FilRouge.png\" width=\"600px\"></img>\n"
   ]
  },
  {
   "cell_type": "markdown",
   "metadata": {},
   "source": [
    "Let's consider the Markov chain represented by this state graph. For $\\ngeq0$, we put $X_n$ the weather on the day $n$, so that the weather on the day $n$ depends only on the weather on the day $n-1$. $(X_n)$ is therefore a Markov chain and it can take 3 values: *sunshine* (state $0$), *rain* (state $1$) and *snow* (state $2$).  \n",
    "The transition matrix is given by $P = \\begin{pmatrix} 0.5 & 0.3 & 0.2\\\\ \n",
    "                                    0.45 & 0.45 & 0.1 \\\\\n",
    "                                    0.4 & 0.3 & 0.3 \\end{pmatrix}$ \n",
    "is a stochastic matrix.\n",
    "\n",
    "For example, if it rains on Monday, there is a 45% chance that the weather will be nice on Tuesday and a 10% chance that it will snow on Tuesday.\n",
    "\n",
    "In the rest of this notebook, we will use numpy arrays to manipulate the different matrices and vectors. Indexing requires the use of integers and not states such as \"sunshine\" for example.\n",
    "\n",
    "\n",
    "We're going to associate an integer with each state $x \\in E$ : <i>sunshine : 0</i>, <i>rain : 1</i> et <i>snow : 2</i>"
   ]
  },
  {
   "cell_type": "code",
   "execution_count": 1,
   "metadata": {},
   "outputs": [
    {
     "name": "stderr",
     "output_type": "stream",
     "text": [
      "C:\\Users\\f02710\\AppData\\Roaming\\Python\\Python38\\site-packages\\pandas\\core\\computation\\expressions.py:20: UserWarning: Pandas requires version '2.7.3' or newer of 'numexpr' (version '2.7.1' currently installed).\n",
      "  from pandas.core.computation.check import NUMEXPR_INSTALLED\n"
     ]
    }
   ],
   "source": [
    "import numpy as np \n",
    "import pandas as pd \n",
    "import seaborn as sns \n",
    "import matplotlib.pyplot as plt"
   ]
  },
  {
   "cell_type": "code",
   "execution_count": 2,
   "metadata": {},
   "outputs": [],
   "source": [
    "stats = {\"sunshine\" : 0, \"rain\" : 1, \"snow\" : 2}\n",
    "inv_stats = dict((n,k) for k, n in stats.items())\n",
    "liste_states = list(stats.keys())"
   ]
  },
  {
   "cell_type": "code",
   "execution_count": 3,
   "metadata": {},
   "outputs": [
    {
     "name": "stdout",
     "output_type": "stream",
     "text": [
      "Transition matrix :\n",
      "           sunshine  rain  snow\n",
      "sunshine      0.50  0.30   0.2\n",
      "rain          0.45  0.45   0.1\n",
      "snow          0.40  0.30   0.3\n"
     ]
    }
   ],
   "source": [
    "#transition matrix \n",
    "transition_matrix = pd.DataFrame([[.5,.3,.2],[.45,.45,.1],[.4,.3,.3]],\n",
    "                                 columns=liste_states, index=liste_states)\n",
    "print(\"Transition matrix :\\n\", transition_matrix)"
   ]
  },
  {
   "cell_type": "code",
   "execution_count": 4,
   "metadata": {},
   "outputs": [
    {
     "name": "stdout",
     "output_type": "stream",
     "text": [
      "All matrix's elements are postive -- :>  True\n",
      "Sum of all probabilities per row is egal to 1 -- :>  True\n",
      "P is stochastic -- :>  True\n"
     ]
    }
   ],
   "source": [
    "# Check if the transition matrix is stochastic \n",
    "# postivity \n",
    "print(\"All matrix's elements are postive -- :> \", np.sum(np.sum(transition_matrix>= 0)) == len(liste_states)**2)\n",
    "\n",
    "print(\"Sum of all probabilities per row is egal to 1 -- :> \", np.sum(np.sum(transition_matrix, axis = 1)) == len(liste_states))\n",
    "\n",
    "print(\"P is stochastic -- :> \", (np.sum(np.sum(transition_matrix>= 0)) == len(liste_states)**2) & \n",
    "      (np.sum(np.sum(transition_matrix, axis = 1)) == len(liste_states)))"
   ]
  },
  {
   "cell_type": "code",
   "execution_count": 5,
   "metadata": {},
   "outputs": [],
   "source": [
    "def markov_chain(nmax, P):\n",
    "    \"\"\"\n",
    "    This function returns weather predictions based on Markov chain\n",
    "    input : \n",
    "        - nmax : number of predictions for each simulation\n",
    "        - P: transition matrix \n",
    "    \"\"\"\n",
    "    list_stat_temp = list(np.zeros(nmax))\n",
    "    for i in range(1, len(list_stat_temp)) :\n",
    "        list_stat_temp[i] = np.random.choice([0,1,2],\n",
    "                                             size=1,\n",
    "                                             p=list(P.iloc[int(list_stat_temp[i-1])].tolist()))[0]\n",
    "        \n",
    "\n",
    "    output_states = [inv_stats[ele] for ele in list_stat_temp]\n",
    "    return output_states"
   ]
  },
  {
   "cell_type": "code",
   "execution_count": 6,
   "metadata": {},
   "outputs": [
    {
     "name": "stdout",
     "output_type": "stream",
     "text": [
      "Examples of weather predictions using Markov chaine : \n",
      " \n",
      "1 : ['sunshine', 'snow', 'rain', 'sunshine', 'rain', 'rain', 'rain']\n",
      "2 : ['sunshine', 'sunshine', 'sunshine', 'sunshine', 'sunshine', 'sunshine', 'sunshine']\n",
      "3 : ['sunshine', 'rain', 'rain', 'rain', 'rain', 'rain', 'rain']\n",
      "4 : ['sunshine', 'rain', 'rain', 'sunshine', 'sunshine', 'rain', 'sunshine']\n",
      "5 : ['sunshine', 'sunshine', 'sunshine', 'sunshine', 'sunshine', 'sunshine', 'rain']\n"
     ]
    }
   ],
   "source": [
    "print(\"Examples of weather predictions using Markov chaine : \\n \")\n",
    "for i in range(5):\n",
    "    predicted_states = markov_chain(7, transition_matrix)\n",
    "    print(\"{} : {}\".format(i+1,predicted_states))"
   ]
  },
  {
   "cell_type": "markdown",
   "metadata": {},
   "source": [
    "## Distribution of Markov chain"
   ]
  },
  {
   "cell_type": "markdown",
   "metadata": {},
   "source": [
    "<div class=\"alert alert-danger\"><b>Definition 1.3  </b> The distribution of a sequence of random variables $(X_n)_{\\ngeq0}$ is the probability of $\\mathbb{P}(X_0 = x_0,...,X_n = x_n)$ for any $n \\geq 0$ and any $x_0,...,x_n \\in E$.</div>"
   ]
  },
  {
   "cell_type": "markdown",
   "metadata": {},
   "source": [
    "<div class=\"alert alert-info\"> <b> Notation </b> : To simplify from now on, for any $\\ngeq0$ we note $X_0^n = (X_k)_{k \\in [0,n]}$  the \"chain killed\" at the moment $n$ and $x_0^n = (x_k)_{k \\in [ 0,n]} $ a sequence of states between the moments $0$ and $n$.</div>"
   ]
  },
  {
   "cell_type": "markdown",
   "metadata": {},
   "source": [
    "<div class=\"alert alert-warning\"><b>Theorem 1.1 </b> : If $X$ is a transition matrix Markov chain $P$, then for all $\\ngeq0$ and $x_0^n \\in E^{n+1}$, we have: $$\\mathbb{P}(X_0^n = x_0^n) = \\mathbb{P}(X_0 = x_0)\\prod_{i=1}^n p_{x_{i−1}x_i}.$$</div>"
   ]
  },
  {
   "cell_type": "markdown",
   "metadata": {},
   "source": [
    "\n",
    "To compute the Markov chain distribution, we therefore need initial conditions $\\mathbb{P}(X_0 = 0)$, $\\mathbb{P}(X_0 = 1)$ and $\\mathbb{P}(X_0 = 2)$. For the moment, in our example we don't know them. We will therefore assume that we start from $0$ such that $\\mathbb{P}(X_0 = 0) = 1$, and we will calculate the probability of some realization $x_0,...,x_n \\in E$ with the formula above.\n"
   ]
  },
  {
   "cell_type": "code",
   "execution_count": 7,
   "metadata": {},
   "outputs": [
    {
     "name": "stdout",
     "output_type": "stream",
     "text": [
      "P(X_0-3 = ['sunshine', 'sunshine', 'rain', 'snow']) = 0.015\n"
     ]
    }
   ],
   "source": [
    "n = 3 # number of observations \n",
    "obeservations = np.random.randint(0,3,n+1)\n",
    "obeservations[0] = 0 #we assume that we start from 0 with a probability egal to 1\n",
    "observation_stats = [inv_stats[obs] for obs in obeservations]\n",
    "proba = 1\n",
    "for i in range(1,n+1):\n",
    "    proba *= transition_matrix.iloc[obeservations[i-1],obeservations[i]]\n",
    "print(\"P(X_0-{} = {}) = {}\" .format(n, observation_stats,proba))"
   ]
  },
  {
   "cell_type": "markdown",
   "metadata": {},
   "source": [
    "- In order to know the distribution of X, we need to the transition matrix as well as the inital probability $\\mathbb{P}(X_0 = x_0)$"
   ]
  },
  {
   "cell_type": "markdown",
   "metadata": {},
   "source": [
    "For the rest of the notebook, we note $\\pi_0$ the initial probability with $\\pi_0 = (\\pi_0(x))_{x \\in E}$ and $\\pi_0(x) = \\mathbb{P}(X_0 = x)$.\n",
    "\n",
    "We note as well, $\\pi_n$ the distribution of $X_n$,  i.e. $\\pi_n = (\\pi_n(x))_{x \\in E}$ with $\\pi_n(x) = \\mathbb{P}(X_n = x)$.\n",
    "\n",
    "For every $n\\geq0$, $\\pi_n$ is a column vector of $[0,1]^{E}$ that contains probabilities $\\mathbb{P}(X_n = x)$ for every $x\\in E$.\n",
    "\n",
    "<div class=\"alert alert-warning\"><b>Theorem  1.2 </b> :  The sequence of variables $(\\pi_n)_{n \\geq 0}$ verifies the following deterministic linear dynamical system: $$\\forall n \\geq 0, \\ \\pi^T_{n+1} = \\pi^T_n P$$\n",
    "In particular, $\\forall n \\geq 0, \\ \\pi_n^T = \\pi_0^T P^n$.</div>\n",
    "\n",
    "The $(X_n)$ law is then fully defined by $P$ and $\\pi_0$. We can therefore denote a time-homogeneous Markov chain by the couple $(pi_0,P)$.</div>"
   ]
  },
  {
   "cell_type": "code",
   "execution_count": 8,
   "metadata": {},
   "outputs": [
    {
     "name": "stdout",
     "output_type": "stream",
     "text": [
      "Distribution of X_n for n in [0,10] : \n",
      "\n",
      "P(X1 = sunshine) = 0.445000, P(X1 = rain) = 0.375000, P(X1 = snow) = 0.180000\n",
      "P(X2 = sunshine) = 0.463250, P(X2 = rain) = 0.356250, P(X2 = snow) = 0.180500\n",
      "P(X3 = sunshine) = 0.464137, P(X3 = rain) = 0.353437, P(X3 = snow) = 0.182425\n",
      "P(X4 = sunshine) = 0.464086, P(X4 = rain) = 0.353016, P(X4 = snow) = 0.182899\n",
      "P(X5 = sunshine) = 0.464059, P(X5 = rain) = 0.352952, P(X5 = snow) = 0.182988\n",
      "P(X6 = sunshine) = 0.464054, P(X6 = rain) = 0.352943, P(X6 = snow) = 0.183004\n",
      "P(X7 = sunshine) = 0.464052, P(X7 = rain) = 0.352941, P(X7 = snow) = 0.183006\n",
      "P(X8 = sunshine) = 0.464052, P(X8 = rain) = 0.352941, P(X8 = snow) = 0.183006\n",
      "P(X9 = sunshine) = 0.464052, P(X9 = rain) = 0.352941, P(X9 = snow) = 0.183007\n",
      "P(X10 = sunshine) = 0.464052, P(X10 = rain) = 0.352941, P(X10 = snow) = 0.183007\n"
     ]
    }
   ],
   "source": [
    "#Initial probabilities \n",
    "pi_0 = np.array([.2, .5, .3])\n",
    "\n",
    "#Computations of pi_n\n",
    "N = 10\n",
    "pi = pi_0\n",
    "print(\"Distribution of X_n for n in [0,{}] : \\n\".format(N))\n",
    "for n in range(N):\n",
    "    pi = pi@transition_matrix\n",
    "    print(\"P(X%d = sunshine) = %f, P(X%d = rain) = %f, P(X%d = snow) = %f\" % (n+1,pi[0],n+1,pi[1],n+1,pi[2]))"
   ]
  },
  {
   "cell_type": "markdown",
   "metadata": {},
   "source": [
    "# 2. <a id=\"sec2\"></a> Markov model's hidden theorem\n"
   ]
  },
  {
   "cell_type": "markdown",
   "metadata": {},
   "source": [
    "In this part we will give the main definitions of hidden Markov model theory as well as its main properties. We will illustrate them using the weather prediction example."
   ]
  },
  {
   "cell_type": "markdown",
   "metadata": {},
   "source": [
    "In order to understand the interest of the theory of hidden Markov models, let's complete our example common thread. We always have our Markov string $(X_n)$ with values in a state space $E = \\{sunshine,rain,snow\\}$ and transition matrix given by $P = \\begin{pmatrix} 0.5 & 0.3 & 0.2\\\\ \n",
    "                                    0.45 & 0.45 & 0.1 \\\\\n",
    "                                    0.4 & 0.3 & 0.3 \\end{pmatrix}$ "
   ]
  },
  {
   "cell_type": "markdown",
   "metadata": {},
   "source": [
    "Now suppose that we are in a room without windows and without thermal insulation, so that we can not see the weather, but we can know if it is hot or cold outside. Weather is therefore hidden from us, unknown, but every day we have access to an observation, the temperature, allowing us to have an idea about the weather."
   ]
  },
  {
   "cell_type": "markdown",
   "metadata": {},
   "source": [
    "$(X_n)$ becomes a **hidden sequence** and every day the temperature is an **observation**. We assume that the observation made on the day $n$ depends only on the weather on that day.\n"
   ]
  },
  {
   "cell_type": "markdown",
   "metadata": {},
   "source": [
    "Let's assume that we have the following probabilities : \n",
    "* $\\mathbb{P}(cold|sunshine) = 0.3$ and $\\mathbb{P}(hot|sunshine) = 0.7$ \n",
    "* $\\mathbb{P}(cold|rain) = 0.8$ and $\\mathbb{P}(hot|rain) = 0.2$ \n",
    "* $\\mathbb{P}(cold|snow) = 1$ and $\\mathbb{P}(hot|snow) = 0$   "
   ]
  },
  {
   "cell_type": "markdown",
   "metadata": {},
   "source": [
    "Our state graph thus becomes:"
   ]
  },
  {
   "cell_type": "markdown",
   "metadata": {},
   "source": [
    "<img src=\"Images/HiddenFilRouge.png\" width=\"600px\"></img>"
   ]
  },
  {
   "cell_type": "markdown",
   "metadata": {},
   "source": [
    "For example, if it rains monday, there is an 80% chance that it will be cold on monday and 20% that it will be hot."
   ]
  },
  {
   "cell_type": "markdown",
   "metadata": {},
   "source": [
    "We have just converted our weather prediction Markov chain into a **hidden Markov model**, with a hidden sequence that we don't have access to (weather) and a sequence of observations (temperature) that we have access to. Let's formalize this idea."
   ]
  },
  {
   "cell_type": "markdown",
   "metadata": {},
   "source": [
    "## 2.2 Definitions\n",
    "\n",
    "The hidden Markov model generalizes the observable Markov model because it produces a sequence using two sequences of random variables: one hidden and the other observable."
   ]
  },
  {
   "cell_type": "markdown",
   "metadata": {},
   "source": [
    "<div class=\"alert alert-danger\"><b>Definition 2.1 [Hidden Markov chain] A hidden Markov</b> model is the data of two sequences of random variables: \n",
    "<li>The hidden sequence, $(X_n)_{n\\geq0}$, which is a \"classical\" Markov chain homogeneous in time and values in a countable state space $E$. </li>\n",
    "<li>The sequence of observations, $(O_n)_{n\\geq0}$, which is a sequence of random and valued variables in a countable set $\\mathcal{V}$ called <i>vocabulary</i>."
   ]
  },
  {
   "cell_type": "markdown",
   "metadata": {},
   "source": [
    "For all $\\ngeq0$, these two suites check the relationship: $$\\forall v_0,...,v_n \\in \\mathcal{V}, \\forall x_0,...,x_n \\in E, , \\mathbb{P}(O_n = v_n | X_0^n = x_0^n, O_0^{n-1} = v_0^{n-1}) = \\mathbb{P}(O_n = v_n | X_n = x_n)$$"
   ]
  },
  {
   "cell_type": "markdown",
   "metadata": {},
   "source": [
    "If, on the other hand, $\\forall n\\geq0, \\forall v \\in \\mathcal{V}, \\forall x \\in E, \\mathbb{P}(O_n = v | X_n = x) = \\mathbb{P}(O_0 = v | X_0 = x)$, The model is said to be <i>stationary</i>.\n",
    "</div>"
   ]
  },
  {
   "cell_type": "markdown",
   "metadata": {},
   "source": [
    "That is, for a stationary hidden Markov model, for $x\\in E$ and $v \\in \\mathcal{V}$, the probability $\\mathbb{P}(O_n = v | X_n = x)$ does not depend on time: we call this probability **probability of emission** (from $x$ to $v$) and we note it $$b_{xv} = \\mathbb{P}(O_n = v|X_n = x) = \\mathbb{P}(O_0 = v|X_0 = x)$$ "
   ]
  },
  {
   "cell_type": "markdown",
   "metadata": {},
   "source": [
    "From now on and in accordance with our application cases, we will consider Markov models hidden in a finite state space $E$ (of cardinal $N \\geq1$), <b>homogeneous in time</b>, with a <b>finite vocabulary</b> (of cardinal $|\\mathcal{V}|$) and <b>stationary</b>."
   ]
  },
  {
   "cell_type": "markdown",
   "metadata": {},
   "source": [
    "<div class=\"alert alert-danger\"><b>Definition 2.2 [Emission matrix]</b> The set of emission probabilities defines the emission matrix denoted $B$ and defined by: $$B=(b_{xv})_{x \\in E, v \\in \\mathcal{V}}$$ </div>\n",
    "In the same way as the transition matrix of the Markov chain, the emission matrix is a stochastic matrix, i.e. it verifies:"
   ]
  },
  {
   "cell_type": "markdown",
   "metadata": {},
   "source": [
    "$$\n",
    "\\left\\{\n",
    "    \\begin{array}{rl}\n",
    "        \\forall x \\in E, \\forall v \\in \\mathcal{V}, & b_{xv} \\geq 0 \\\\\n",
    "        \\forall x \\in E, & \\sum_{v\\in \\mathcal{V}} b_{xv} = 1\n",
    "    \\end{array}\n",
    "\\right.\n",
    "$$"
   ]
  },
  {
   "cell_type": "markdown",
   "metadata": {},
   "source": [
    "<b> Convention </b> For the same reason as for states, we will associate an integer with each element of the vocabulary for indexing the emission matrix: <i>cold: 0</i> and <i>hot: 1</i>.\n",
    "\n",
    "Let's implement the emission matrix of our hidden Markov chain: "
   ]
  },
  {
   "cell_type": "code",
   "execution_count": 9,
   "metadata": {},
   "outputs": [],
   "source": [
    "#Définition du vocabulaire\n",
    "vocabulary = {'Cold':0, 'Hot':1}\n",
    "inv_vocabulary = dict((n,k) for k, n in vocabulary.items())\n",
    "list_vocabulary = list(vocabulary.keys())"
   ]
  },
  {
   "cell_type": "code",
   "execution_count": 10,
   "metadata": {},
   "outputs": [
    {
     "name": "stdout",
     "output_type": "stream",
     "text": [
      "\n",
      " Matrice d'émission :\n",
      "          Cold  Hot\n",
      "sunshine  0.3  0.7\n",
      "rain      0.8  0.2\n",
      "snow        1    0\n"
     ]
    }
   ],
   "source": [
    "#Définition de la matrice d'émission\n",
    "b_df = pd.DataFrame(columns=list_vocabulary, index=stats)\n",
    "b_df.loc[list(stats.keys())[0]] = [.3,.7]\n",
    "b_df.loc[list(stats.keys())[1]] = [0.8,0.2]\n",
    "b_df.loc[list(stats.keys())[2]] = [1,0]\n",
    "B = b_df.values.astype(\"float\")\n",
    "print(\"\\n Matrice d'émission :\\n\",b_df)"
   ]
  },
  {
   "cell_type": "markdown",
   "metadata": {},
   "source": [
    "To generate a sequence of observations from a hidden Markov model, the following procedure must be followed: \n",
    "* 1 - Pick randomly the initial state $X_0$ according to the initial distribution $pi_0$\n",
    "* 2 - Pick randomly the initial observation $O_0$ according to the emission probabilities corresponding to $X_0$\n",
    "\n",
    "* 3 - From the state $X_i$ at the moment $i$, go to the following state $X_{i+1}$ according to the transition probabilities.\n",
    "* 4 - pick randomly the observation $O_{i+1}$ at the moment $i+1$ according to the emission probabilities\n",
    "* 5 - Go back to step 3 and start again until the end."
   ]
  },
  {
   "cell_type": "code",
   "execution_count": 11,
   "metadata": {},
   "outputs": [],
   "source": [
    "def hidden_markov_model(n,pi_0,P,B): \n",
    "    \"\"\"\n",
    "    Generation of a sequence of (n+1) stats and (n+1) observations between two times 0 and n.\n",
    "    \n",
    "    Inputs : \n",
    "        n : lenght of sequence \n",
    "        pi_0 : initial distribution of hidden sequence\n",
    "        P : transition matrix\n",
    "        B : emission matrix \n",
    "    \"\"\"\n",
    "\n",
    "    X_n = np.zeros(n+1,dtype=int)\n",
    "    O_n = np.zeros(n+1,dtype=int)\n",
    "    E = list(range(P.shape[0])) #States\n",
    "    V = list(range(B.shape[1])) #Vocabulary\n",
    "    \n",
    "    #initialisation\n",
    "    X_n[0] = np.random.choice(E,size=1,p=pi_0)\n",
    "    O_n[0] = np.random.choice(V,size=1,p = list(B[X_n[0]]))\n",
    "    \n",
    "    #recurrence \n",
    "    for i in range(n):\n",
    "        X_n[i+1] = np.random.choice(E,size=1,p = list(P.iloc[X_n[i]]))\n",
    "        O_n[i+1] = np.random.choice(V,size=1,p = list(B[X_n[i+1]]))\n",
    "    return X_n,O_n"
   ]
  },
  {
   "cell_type": "code",
   "execution_count": 12,
   "metadata": {},
   "outputs": [
    {
     "name": "stdout",
     "output_type": "stream",
     "text": [
      "Examples of sequences generated  with a hidden Markov Chain : \n",
      "\n",
      "X_0 = rain, O_0 = Cold\n",
      "X_1 = sunshine, O_1 = Cold\n",
      "X_2 = sunshine, O_2 = Cold\n",
      "X_3 = sunshine, O_3 = Hot\n",
      "X_4 = rain, O_4 = Hot\n",
      "X_5 = sunshine, O_5 = Hot\n"
     ]
    }
   ],
   "source": [
    "X,O = hidden_markov_model(5,pi_0,transition_matrix,B)\n",
    "print(\"Examples of sequences generated  with a hidden Markov Chain : \\n\")\n",
    "for i in range(len(X)):\n",
    "    print(\"X_\" + str(i) + \" = \" + inv_stats[X[i]] +\", O_\" + str(i) + \" = \"+ inv_vocabulary[O[i]])"
   ]
  },
  {
   "cell_type": "markdown",
   "metadata": {},
   "source": [
    "## 2.3 Law of Process $(X,O)$"
   ]
  },
  {
   "cell_type": "markdown",
   "metadata": {},
   "source": [
    "In the same way as for classical Markov chains, let's look at the law of the sequence $(X_n,O_n)_{\\ngeq0}$."
   ]
  },
  {
   "cell_type": "markdown",
   "metadata": {},
   "source": [
    "<div class=\"alert alert-warning\"><b>Theorem 2.1 </b> : For any $n \\geq 0$, all $x_0, ..., x_n \\in E$ and for any $v_0, ..., v_n \\in \\mathcal{V}$, we have:\n",
    "$$\\mathbb{P}(X_0^n = x_0^n, O_0^n = v_0^n) = pi_0(x_0)\\prod_{i=0}^n b_{x_iv_i} \\prod_{i=1}^n p_{x_{i-1}x_i}$$\n",
    "</div>"
   ]
  },
  {
   "cell_type": "markdown",
   "metadata": {},
   "source": [
    "Proof of theorem 2.1: Let $x_0, ..., x_n \\in E$ and $v_0, ..., v_n \\in \\mathcal{V}$. We have: "
   ]
  },
  {
   "cell_type": "markdown",
   "metadata": {},
   "source": [
    "\n",
    "\\begin{align}\n",
    "\\mathbb{P}(X_0^n = x_0^n, O_0^n = v_0^n) &= \\mathbb{P}(O_0^n = v_0^n | X_0^n = x_0^n) \\mathbb{P}(X_0^n = x_0^n) \\\\\n",
    "&= \\mathbb{P}(X_0^n = x_0^n) \\mathbb{P}(O_0 = v_0 | X_0^n = x_0^n) \\prod_{i=1}^n \\mathbb{P}(O_i = v_i | X_0^n = x_0^n, O_0^{i-1} = v_0^{i-1})\\\\\n",
    "&= \\mathbb{P}(X_0^n = x_0^n) \\prod_{i=0}^n \\mathbb{P}(O_i = v_i | X_i = x_i) \\ \\ \\ \\text{by the Markov property on the observations} \\\\\n",
    "&= \\pi_0(x_0)\\prod_{i=0}^n b_{x_iv_i} \\prod_{i=1}^n p_{x_{i-1}x_i} \n",
    "\\end{align}"
   ]
  },
  {
   "cell_type": "markdown",
   "metadata": {},
   "source": [
    "This theorem allows us to assert that the law of the process $(X,O)$ is therefore entirely determined by $pi_0$, $P$ and $B$. In the same way as for classical Markov chains, one can denote a hidden Makov chain by the triplet $(pi_0,P,B)$."
   ]
  },
  {
   "cell_type": "code",
   "execution_count": 13,
   "metadata": {},
   "outputs": [],
   "source": [
    "n = 2\n",
    "realisations = np.random.randint(0,3,n+1)\n",
    "sequence_obs = np.random.randint(0,2,n+1)\n",
    "realisation_stats = [inv_stats[n] for n in realisations]\n",
    "observations_stats = [inv_vocabulary[n] for n in sequence_obs]"
   ]
  },
  {
   "cell_type": "code",
   "execution_count": 14,
   "metadata": {},
   "outputs": [
    {
     "name": "stdout",
     "output_type": "stream",
     "text": [
      "P(X_0^2 = ['rain', 'rain', 'rain'],O_0^2 = ['Cold', 'Cold', 'Hot']) = 0.012960000000000003\n"
     ]
    }
   ],
   "source": [
    "#Calcul de la probabilité d'une réalisation de (X,O)\n",
    "proba = pi_0[realisations[0]] * B[realisations[0],sequence_obs[0]]\n",
    "for i in range(1,n+1):\n",
    "    proba *= transition_matrix.iloc[realisations[i-1],realisations[i]] * B[realisations[i],sequence_obs[i]]\n",
    "print(\"P(X_0^{} = {},O_0^{} = {}) = {}\".format(n, realisation_stats,n,observations_stats,proba))"
   ]
  },
  {
   "cell_type": "markdown",
   "metadata": {},
   "source": [
    "# 3. <a id=\"sec3\"></a> The three fundamental problems"
   ]
  },
  {
   "cell_type": "markdown",
   "metadata": {},
   "source": [
    "When a data scientist decides to use a hidden Markov model to represent a phenomenon, for example in natural language processing, a big problem arises: the sequence of states is not accessible, he only has the sequence of obervations. Two types of situations are then possible:"
   ]
  },
  {
   "cell_type": "markdown",
   "metadata": {},
   "source": [
    "* Either the parameters $(pi_0,P,B)$ are known and we can then make calculations under this model\n",
    "* Or they are not, in which case we would like to determine them from observations, as a neural network would."
   ]
  },
  {
   "cell_type": "markdown",
   "metadata": {},
   "source": [
    "<div class=\"alert alert-info\"> <b> Notation </b> : In this whole part, for a hidden Markov model $\\lambda = (pi_0,P,B)$ and a sequence of observations $v_0^n \\in \\mathcal{V}^{n+1}$, we note by $\\mathbb{P}_\\lambda(O_0^n = v_0^n)$ the probability that the hidden model $\\lambda$ emitted the sequence $v_0^n$.</div>"
   ]
  },
  {
   "cell_type": "markdown",
   "metadata": {},
   "source": [
    "<b> Convention </b> : In line with the integer/<i>state and integer/</i><i>word</i> correspondences we have created, the algorithms in this part will only process integers (in other words: $E = [\\![ 0,N-1]\\!] $ and $\\mathcal{V} = [\\![ 0,|\\mathcal{V}| - 1]\\!] $) Conversion to states and words will be done through correspondence dictionaries."
   ]
  },
  {
   "cell_type": "markdown",
   "metadata": {},
   "source": [
    "Given a sequence of obervations $v_0^n \\in \\mathcal{V}^{n+1}$, there are three fundamental problems that deserve our attention and need to be solved:"
   ]
  },
  {
   "cell_type": "markdown",
   "metadata": {},
   "source": [
    "* **Problem 1 (probability calculation)**: given a model $\\lambda = (pi_0,P,B)$, efficiently calculate the probability of observing this sequence\n",
    "* **Problem 2 (decryption)**: given a $\\lambda = (pi_0,P,B)$ pattern, determine the most likely corresponding sequence of states $x_0^n \\in E^{n+1}$\n",
    "* **Problem 3 (training)**: determine the parameters of the model $\\lambda^* = (pi_0^*,P^*,B^*)$ that maximize $\\mathbb{P}_{\\lambda}(O_0^n = v_0^n)$"
   ]
  },
  {
   "cell_type": "markdown",
   "metadata": {},
   "source": [
    "# 3. <a id=\"sec2\"></a> Application of Markov Chain in Finance "
   ]
  },
  {
   "cell_type": "markdown",
   "metadata": {},
   "source": [
    "### Predicting Market Trend"
   ]
  },
  {
   "cell_type": "markdown",
   "metadata": {},
   "source": [
    "Concerning market trend. These are tree types : "
   ]
  },
  {
   "cell_type": "markdown",
   "metadata": {},
   "source": [
    "- Bull markets: periods of time where prices generally are rising, due to the actors having optimistic hopes of the future.\n",
    "- Bear markets: periods of time where prices generally are declining, due to the actors having a pessimistic view of the future.\n",
    "- Stagnant markets : periods of time where the market is characterized by neither a decline nor rise in general prices"
   ]
  },
  {
   "cell_type": "markdown",
   "metadata": {},
   "source": [
    "Suppose we have the following transition probabilities :"
   ]
  },
  {
   "cell_type": "markdown",
   "metadata": {},
   "source": [
    "<img src=\"Images/Market_Trend.JPG\" width=\"500px\"></img>"
   ]
  },
  {
   "cell_type": "markdown",
   "metadata": {},
   "source": [
    "After a week characterized of a bull market trend there is a 90% chance that another bullish week will follow. Additionally, there is a 7.5% chance that the bull week instead will be followed by a bearish one, or a 2.5% chance that it will be a stagnant one. After a bearish week there’s an 80% chance that the upcoming week also will be bearish, and so on."
   ]
  },
  {
   "cell_type": "code",
   "execution_count": 15,
   "metadata": {},
   "outputs": [],
   "source": [
    "# Let's consider the following transition matrix\n",
    "transition_matrix = np.array([[0.9,0.075,0.025],\n",
    "              [0.15,0.8,0.05], \n",
    "              [0.25,0.25,0.5]])"
   ]
  },
  {
   "cell_type": "code",
   "execution_count": 16,
   "metadata": {},
   "outputs": [],
   "source": [
    "# We assume that we strat from a stagnant state\n",
    "state=np.array([[0.0,0.0,1.0]]) \n",
    "\n",
    "# Initialize our list in which we store the states at each iteration\n",
    "state_historic = state \n",
    "\n",
    "# Convert it to dataframe\n",
    "df_state_historic = pd.DataFrame(state) "
   ]
  },
  {
   "cell_type": "code",
   "execution_count": 17,
   "metadata": {},
   "outputs": [],
   "source": [
    "# we choose 100 iterations \n",
    "for x in range(100): \n",
    "    \n",
    "    # we multiply liste of states with matrix trnasition \n",
    "    state=np.dot(state,transition_matrix) \n",
    "    \n",
    "    # add the new prediction to state_historic list\n",
    "    state_historic=np.append(state_historic,state,axis=0) \n",
    "    \n",
    "    # convert state_historic to dataframe\n",
    "    df_state_historic = pd.DataFrame(state_historic)  "
   ]
  },
  {
   "cell_type": "code",
   "execution_count": 18,
   "metadata": {},
   "outputs": [
    {
     "data": {
      "text/plain": [
       "<matplotlib.axes._subplots.AxesSubplot at 0x1c49d2b75e0>"
      ]
     },
     "execution_count": 18,
     "metadata": {},
     "output_type": "execute_result"
    },
    {
     "data": {
      "image/png": "[encoded data removed]",
      "text/plain": [
       "<Figure size 720x360 with 1 Axes>"
      ]
     },
     "metadata": {
      "needs_background": "light"
     },
     "output_type": "display_data"
    }
   ],
   "source": [
    "# Plotting graph\n",
    "plt.figure(figsize=(10,5)) \n",
    "sns.lineplot(data=df_state_historic)"
   ]
  },
  {
   "cell_type": "markdown",
   "metadata": {},
   "source": [
    "Thanks to Markov Chain, after 100 iterations (weeks in our case) : "
   ]
  },
  {
   "cell_type": "markdown",
   "metadata": {},
   "source": [
    "- There is 62.5% chance that market will be bullish\n",
    "- There is 31.25% chance that market will be bearish\n",
    "- There is 62.5% chance that market will be stagnant"
   ]
  },
  {
   "cell_type": "markdown",
   "metadata": {},
   "source": [
    "### Stationnary distribution of Markov Chain"
   ]
  },
  {
   "cell_type": "markdown",
   "metadata": {},
   "source": [
    "In the previous example, the distribution becomes stationnary after 18 iterations. How we can explain that ?\n",
    "\n",
    "As seen previously : \n",
    "    \n",
    "$$\\forall n \\geq 0, \\ \\pi^T_{n+1} = P \\pi^T_n $$ \n",
    "   \n",
    "In particular, $\\forall n \\geq 0, \\ \\pi_n^T = P^n \\pi_0^T $.</div>\n",
    "\n",
    "P is a transition matrix: each element is a transition probability from a state to another : $\\forall x,y \\in E,  p_{xy} \\in [0,1]$"
   ]
  },
  {
   "cell_type": "markdown",
   "metadata": {},
   "source": [
    "### Reminder "
   ]
  },
  {
   "cell_type": "markdown",
   "metadata": {},
   "source": [
    "<div class=\"alert alert-warning\"><b> Perron Frobenius' theorem  </b> :\n",
    "\n",
    "Let A be a N by N irreducible matrix with positive coefficients : \n",
    "    \n",
    "- There is a positive real number r, called the Perron root or the Perron–Frobenius eigenvalue (also called the leading eigenvalue or dominant eigenvalue), such that r is an eigenvalue of A and any other eigenvalue λ (possibly complex) in absolute value is strictly smaller than r , |λ| < r. Thus, the spectral radius $\\rho$ (A) is equal to r.\n",
    "- If s and S are respectively the maximum and minimum sums of each row, so : $ s \\leq \\rho (A) \\leq S  $\n"
   ]
  },
  {
   "cell_type": "markdown",
   "metadata": {},
   "source": [
    "In our case, the sum of each row of P is equal to 1 (each row contains the transition probabilities from a state to others) So : \n",
    "                $$ 1 \\leq \\rho \\; (P) \\leq 1  \\Leftrightarrow \\rho \\; (P) = 1 $$\n",
    "                \n",
    "And any other eignevalue is smaller than 1: |λ| < 1\n",
    "\n",
    "P is diagonalizable because it's symmetric, so we can write P = $ V \\; diag(\\lambda) \\; V^T $\n",
    "\n",
    "\n",
    "\n",
    "\\begin{align}\n",
    "   \\forall n \\geq 0, \\ \\pi_n^T &= P^n \\pi_0^T    \\\\\n",
    "    &=(V \\; diag(\\lambda) \\; V^T)^n \\; \\pi_0^T  \\\\  \n",
    "    &=(V \\; diag(\\lambda)^n \\; V^T) \\; \\pi_0^T  \\\\\n",
    "\\end{align}\n",
    "\n",
    "This process forces all non-zero eigenvalues smaller than 1 to decrease until zero. \n",
    "\n",
    "After a certain number of iterations, diag($\\lambda$) will have one eigenvalue equal to 1 and the ohers to zero. Thus,  $$\\forall n \\geq 0, \\ \\pi_n^T = P' \\pi_0^T$$\n",
    "\n",
    "Which converges to a stationnary distribution, called also equilibrium distribution"
   ]
  },
  {
   "cell_type": "markdown",
   "metadata": {},
   "source": [
    " "
   ]
  },
  {
   "cell_type": "markdown",
   "metadata": {},
   "source": [
    " "
   ]
  },
  {
   "cell_type": "markdown",
   "metadata": {},
   "source": [
    " "
   ]
  }
 ],
 "metadata": {
  "kernelspec": {
   "display_name": "Python 3 (ipykernel)",
   "language": "python",
   "name": "python3"
  },
  "language_info": {
   "codemirror_mode": {
    "name": "ipython",
    "version": 3
   },
   "file_extension": ".py",
   "mimetype": "text/x-python",
   "name": "python",
   "nbconvert_exporter": "python",
   "pygments_lexer": "ipython3",
   "version": "3.7.1"
  }
 },
 "nbformat": 4,
 "nbformat_minor": 4
}
